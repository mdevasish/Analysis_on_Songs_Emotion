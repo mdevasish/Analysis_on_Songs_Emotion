{
 "cells": [
  {
   "cell_type": "code",
   "execution_count": 1,
   "metadata": {},
   "outputs": [
    {
     "name": "stderr",
     "output_type": "stream",
     "text": [
      "C:\\Users\\hp\\Anaconda3\\lib\\site-packages\\smart_open\\ssh.py:34: UserWarning: paramiko missing, opening SSH/SCP/SFTP paths will be disabled.  `pip install paramiko` to suppress\n",
      "  warnings.warn('paramiko missing, opening SSH/SCP/SFTP paths will be disabled.  `pip install paramiko` to suppress')\n",
      "C:\\Users\\hp\\Anaconda3\\lib\\site-packages\\gensim\\utils.py:1197: UserWarning: detected Windows; aliasing chunkize to chunkize_serial\n",
      "  warnings.warn(\"detected Windows; aliasing chunkize to chunkize_serial\")\n"
     ]
    }
   ],
   "source": [
    "# Import all libraries \n",
    "import pandas as pd\n",
    "import nltk\n",
    "import re\n",
    "from nltk.stem.porter import *\n",
    "import numpy as  np\n",
    "import gensim\n",
    "from nltk.stem import WordNetLemmatizer\n",
    "from sklearn.feature_extraction.text import CountVectorizer\n",
    "from nltk.tokenize import RegexpTokenizer\n",
    "from sklearn.metrics import confusion_matrix\n",
    "from sklearn.feature_extraction.text import TfidfVectorizer\n",
    "from nltk.stem.porter import *\n",
    "import pickle"
   ]
  },
  {
   "cell_type": "code",
   "execution_count": 2,
   "metadata": {},
   "outputs": [
    {
     "name": "stdout",
     "output_type": "stream",
     "text": [
      "Current Working Directory  E:\\MITB\\Text Analytics\\Project\\Datasets\\Submission_folder\n"
     ]
    }
   ],
   "source": [
    "import os\n",
    "\n",
    "os.chdir('..')\n",
    "print(\"Current Working Directory \" , os.getcwd())\n",
    "#\n",
    "os.chdir('Datasets')"
   ]
  },
  {
   "cell_type": "code",
   "execution_count": 3,
   "metadata": {},
   "outputs": [],
   "source": [
    "# Tagged songs for sentiment analysis load csv file\n",
    "\n",
    "with open('Tagged_songs_combined_final.csv', encoding='utf-8', errors = 'ignore') as file:\n",
    "        songs_df = pd.read_csv(file)\n"
   ]
  },
  {
   "cell_type": "code",
   "execution_count": 3,
   "metadata": {},
   "outputs": [],
   "source": [
    "# Duplicate songs removal of a song function\n",
    "def removeDuplicatesLines(k):\n",
    "    lines_seen = list()\n",
    "    for line in k:\n",
    "        if line not in lines_seen:\n",
    "            lines_seen.append(line)\n",
    "    clean_lyric = '\\n'.join(lines_seen)\n",
    "    \n",
    "    return clean_lyric"
   ]
  },
  {
   "cell_type": "code",
   "execution_count": 4,
   "metadata": {},
   "outputs": [],
   "source": [
    "# Format targeted labels into right format like 'happiness' as 'happy'\n",
    "\n",
    "songs_df = songs_df.dropna(axis = 0)\n",
    "songs_df['Polarity'] = songs_df['Polarity'].apply(lambda x: x.lower().replace(\" \",\"\"))\n",
    "songs_df['Emotion']  = songs_df['Emotion'].apply(lambda x: x.lower().replace(\" \",\"\"))\n",
    "songs_df['Emotion'] = songs_df['Emotion'].apply(lambda x: 'happy' if x == 'happiness' else x)\n",
    "songs_df['Emotion'] = songs_df['Emotion'].apply(lambda x: 'angry' if x == 'anger' else x)\n",
    "songs_df = songs_df[songs_df.Polarity.isin(['negative','neutral','positive'])].reset_index(drop = True)"
   ]
  },
  {
   "cell_type": "code",
   "execution_count": 5,
   "metadata": {},
   "outputs": [],
   "source": [
    "# Remove duplicate lines\n",
    "songs_df['Clean_lyrics'] = songs_df['Lyrics'].apply(lambda x: removeDuplicatesLines(x.splitlines()))"
   ]
  },
  {
   "cell_type": "code",
   "execution_count": 6,
   "metadata": {},
   "outputs": [],
   "source": [
    "# Data preparation\n",
    "\n",
    "def songs_to_documents(corpus_data, label):\n",
    "    labels = list(label)\n",
    "    dictionary = gensim.corpora.Dictionary(corpus_data)\n",
    "    labeled_data = []\n",
    "    for (l,s) in zip(labels,corpus_data):\n",
    "        vector = dictionary.doc2bow(s)\n",
    "        sent_as_dict = {id:1 for (id,tf) in vector}\n",
    "        labeled_data.append((sent_as_dict,l))\n",
    "    return labeled_data\n"
   ]
  },
  {
   "cell_type": "code",
   "execution_count": 7,
   "metadata": {},
   "outputs": [],
   "source": [
    "# Train Naive_bayes function:\n",
    "\n",
    "def train_naiveBayes(corpus_train, label):\n",
    "    \n",
    "    # Model Naive bayes\n",
    "    labeled_train_data = songs_to_documents(corpus_train,label)\n",
    "    classifier = nltk.NaiveBayesClassifier.train(labeled_train_data)\n",
    "\n",
    "\n",
    "    print('Accuracy for train data', nltk.classify.accuracy(classifier,labeled_train_data))\n",
    "    return classifier\n",
    "\n"
   ]
  },
  {
   "cell_type": "code",
   "execution_count": 8,
   "metadata": {},
   "outputs": [],
   "source": [
    "# Test Naive Bayes function\n",
    "def test_naiveBayes(model,corpus_test,label):\n",
    "    labeled_test_data = songs_to_documents(corpus_test,label)\n",
    "    print('Accuracy for test data', nltk.classify.accuracy(model,labeled_test_data))"
   ]
  },
  {
   "cell_type": "code",
   "execution_count": 9,
   "metadata": {},
   "outputs": [],
   "source": [
    "# Generate n_grams\n",
    "def generate_ngrams(tokens, n):\n",
    "    ngrams = zip(*[tokens[i:] for i in range(n)])\n",
    "    return [\" \".join(ngram) for ngram in ngrams]"
   ]
  },
  {
   "cell_type": "code",
   "execution_count": 10,
   "metadata": {},
   "outputs": [],
   "source": [
    "# Text cleaning: tokenize, lower case, reg check to remove unwanted quotes, stop words removal\n",
    "def data_clean(songs):\n",
    "    docs = songs.tolist()\n",
    "     \n",
    "    stop_list = nltk.corpus.stopwords.words('english')\n",
    "    docs2 = [[w.lower() for w in doc] for doc in docs]\n",
    "    docs3 = [[w for w in doc if re.search('^[a-zA-Z0-9]+$', w)] for doc in docs2]\n",
    "    docs4 = [[w for w in doc if w not in stop_list] for doc in docs3]\n",
    "\n",
    "    stemmer = PorterStemmer()\n",
    "    corpus_clean = [[stemmer.stem(w) for w in doc] for doc in docs4]\n",
    "    return corpus_clean\n",
    "    "
   ]
  },
  {
   "cell_type": "code",
   "execution_count": 12,
   "metadata": {},
   "outputs": [],
   "source": [
    "# Extract negative and positive list\n",
    "stemmer = PorterStemmer()\n",
    "pos_lexicon = 'positive-words.txt'\n",
    "neg_lexicon = 'negative-words.txt'\n",
    "\n",
    "\n",
    "pos_list = set()\n",
    "f = open(pos_lexicon, 'r', encoding = \"ISO-8859-1\")\n",
    "for line in f:\n",
    "    line = stemmer.stem(line.strip().lower())\n",
    "    pos_list.add(line.lower())\n",
    "f.close()\n",
    "\n",
    "# Read the negative sentiment lexicon.\n",
    "neg_list = set()\n",
    "f = open(neg_lexicon, 'r', encoding = \"ISO-8859-1\")\n",
    "for line in f:\n",
    "    line = stemmer.stem(line.strip())\n",
    "    neg_list.add(line.lower())\n",
    "f.close()\n"
   ]
  },
  {
   "cell_type": "code",
   "execution_count": 13,
   "metadata": {},
   "outputs": [],
   "source": [
    "# Clean data and create bigrams and tri-grams\n",
    "\n",
    "songs_df['Lyrics_1'] = data_clean(songs_df['Clean_lyrics'])\n",
    "\n",
    "songs_df['Lyrics_2'] = songs_df['Lyrics_1'].apply(lambda x: generate_ngrams(x,2))\n",
    "songs_df['Lyrics_3'] = songs_df['Lyrics_1'].apply(lambda x: generate_ngrams(x,3))"
   ]
  },
  {
   "cell_type": "code",
   "execution_count": 14,
   "metadata": {},
   "outputs": [],
   "source": [
    "# Data sampling into train and test (80 and 20) percentage\n",
    "X = songs_df[['Lyrics_1','Lyrics_2','Lyrics_3','Clean_lyrics']]\n",
    "y = songs_df['Polarity']\n",
    "from sklearn.model_selection import train_test_split\n",
    "X_train, X_test, y_train, y_test = train_test_split(X, y,\n",
    "                                                    stratify=y, \n",
    "                                                    test_size=0.2,random_state = 42)"
   ]
  },
  {
   "cell_type": "code",
   "execution_count": 15,
   "metadata": {},
   "outputs": [
    {
     "name": "stdout",
     "output_type": "stream",
     "text": [
      "Train accuracy for lexicon model: 0.07308377896613191\n",
      "Test accuracy for lexicon model: 0.07092198581560284\n"
     ]
    }
   ],
   "source": [
    "# Lexicon model:\n",
    "\n",
    "# Train data sentimental score\n",
    "sent_score_train = []\n",
    "for doc in X_train['Lyrics_1']:\n",
    "    score = 0\n",
    "    for word in doc:\n",
    "        if word in pos_list:\n",
    "            score = score + 1\n",
    "        elif word in neg_list:\n",
    "            score = score-1\n",
    "    sent_score_train.append(score)\n",
    "\n",
    "# Accuracy for lexicon\n",
    "acc_score = 0\n",
    "y_label = list(y_train)\n",
    "for i in range(len(sent_score_train)):\n",
    "    \n",
    "    if (sent_score_train[i] > 0) & (y_label[i].lower() == 'positive'):\n",
    "        acc_score = acc_score + 1\n",
    "    else:\n",
    "        if (sent_score_train[i] == 0) & (y_label[i].lower() == 'neutral'):\n",
    "            acc_score = acc_score + 1\n",
    "        else:\n",
    "            if (sent_score_train[i] < 0) & (y_label[i].lower() == 'negative'):\n",
    "                acc_score = acc_score + 1\n",
    "    \n",
    "    \n",
    "    \n",
    "        \n",
    "print('Train accuracy for lexicon model:',acc_score/len(sent_score_train))    \n",
    "\n",
    "# Test data sentimental score\n",
    "sent_score_test = []\n",
    "for doc in X_test['Lyrics_1']:\n",
    "    score = 0\n",
    "    for word in doc:\n",
    "        if word in pos_list:\n",
    "            score = score + 1\n",
    "        elif word in neg_list:\n",
    "            score = score-1\n",
    "    sent_score_test.append(score)\n",
    "\n",
    "# Accuracy for lexicon\n",
    "acc_score = 0\n",
    "y_label = list(y_test)\n",
    "for i in range(len(sent_score_test)):\n",
    "    \n",
    "    if (sent_score_test[i] > 0) & (y_label[i].lower() == 'positive'):\n",
    "        acc_score = acc_score + 1\n",
    "    else:\n",
    "        if (sent_score_test[i] == 0) & (y_label[i].lower() == 'neutral'):\n",
    "            acc_score = acc_score + 1\n",
    "        else:\n",
    "            if (sent_score_test[i] < 0) & (y_label[i].lower() == 'negative'):\n",
    "                acc_score = acc_score + 1\n",
    "    \n",
    "    \n",
    "    \n",
    "        \n",
    "print('Test accuracy for lexicon model:',acc_score/len(sent_score_test))    \n",
    "    \n",
    "    "
   ]
  },
  {
   "cell_type": "code",
   "execution_count": 16,
   "metadata": {},
   "outputs": [
    {
     "name": "stdout",
     "output_type": "stream",
     "text": [
      "Nltk-model-NaiveBayes for Sentimental analysis\n",
      "\n",
      "\n",
      "Unigram model\n",
      "Accuracy for train data 0.5472370766488414\n",
      "Accuracy for test data 0.3900709219858156\n",
      "\n",
      "\n",
      "Bigram model\n",
      "Accuracy for train data 0.08912655971479501\n",
      "Accuracy for test data 0.07801418439716312\n"
     ]
    }
   ],
   "source": [
    "# NLTK Package Naive Bayes\n",
    "print('Nltk-model-NaiveBayes for Sentimental analysis')\n",
    "print('\\n')\n",
    "print('Unigram model')\n",
    "model_sentiment_naive_nltk_1 = train_naiveBayes(X_train['Lyrics_1'],y_train)\n",
    "test_naiveBayes(model_sentiment_naive_nltk_1,X_test['Lyrics_1'],y_test)\n",
    "print('\\n')\n",
    "print('Bigram model')\n",
    "model_sentiment_naive_nltk_2 = train_naiveBayes(X_train['Lyrics_2'],y_train)\n",
    "test_naiveBayes(model_sentiment_naive_nltk_2,X_test['Lyrics_2'],y_test)\n"
   ]
  },
  {
   "cell_type": "code",
   "execution_count": 17,
   "metadata": {},
   "outputs": [
    {
     "name": "stdout",
     "output_type": "stream",
     "text": [
      "Nltk-Maxent Classifier\n",
      "\n",
      "\n",
      "  ==> Training (100 iterations)\n",
      "\n",
      "      Iteration    Log Likelihood    Accuracy\n",
      "      ---------------------------------------\n",
      "             1          -1.09861        0.378\n",
      "             2          -0.89706        0.549\n",
      "             3          -0.83816        0.549\n",
      "             4          -0.81545        0.549\n",
      "             5          -0.80498        0.547\n",
      "             6          -0.79942        0.549\n",
      "             7          -0.79599        0.551\n",
      "             8          -0.79355        0.554\n",
      "             9          -0.79159        0.556\n",
      "            10          -0.78989        0.556\n",
      "            11          -0.78835        0.563\n",
      "            12          -0.78691        0.561\n",
      "            13          -0.78557        0.563\n",
      "            14          -0.78430        0.569\n",
      "            15          -0.78310        0.569\n",
      "            16          -0.78197        0.569\n",
      "            17          -0.78090        0.570\n",
      "            18          -0.77988        0.570\n",
      "            19          -0.77892        0.569\n",
      "            20          -0.77800        0.569\n",
      "            21          -0.77713        0.569\n",
      "            22          -0.77630        0.569\n",
      "            23          -0.77551        0.569\n",
      "            24          -0.77476        0.569\n",
      "            25          -0.77404        0.569\n",
      "            26          -0.77335        0.569\n",
      "            27          -0.77269        0.570\n",
      "            28          -0.77205        0.572\n",
      "            29          -0.77144        0.574\n",
      "            30          -0.77086        0.574\n",
      "            31          -0.77029        0.574\n",
      "            32          -0.76975        0.574\n",
      "            33          -0.76923        0.574\n",
      "            34          -0.76872        0.574\n",
      "            35          -0.76823        0.574\n",
      "            36          -0.76776        0.574\n",
      "            37          -0.76731        0.574\n",
      "            38          -0.76687        0.574\n",
      "            39          -0.76644        0.574\n",
      "            40          -0.76603        0.574\n",
      "            41          -0.76563        0.574\n",
      "            42          -0.76524        0.574\n",
      "            43          -0.76486        0.574\n",
      "            44          -0.76449        0.574\n",
      "            45          -0.76414        0.574\n",
      "            46          -0.76379        0.574\n",
      "            47          -0.76346        0.574\n",
      "            48          -0.76313        0.574\n",
      "            49          -0.76281        0.574\n",
      "            50          -0.76250        0.574\n",
      "            51          -0.76220        0.574\n",
      "            52          -0.76191        0.574\n",
      "            53          -0.76162        0.574\n",
      "            54          -0.76134        0.574\n",
      "            55          -0.76107        0.574\n",
      "            56          -0.76081        0.574\n",
      "            57          -0.76055        0.574\n",
      "            58          -0.76030        0.574\n",
      "            59          -0.76005        0.574\n",
      "            60          -0.75981        0.574\n",
      "            61          -0.75958        0.574\n",
      "            62          -0.75935        0.574\n",
      "            63          -0.75912        0.574\n",
      "            64          -0.75890        0.578\n",
      "            65          -0.75869        0.578\n",
      "            66          -0.75848        0.578\n",
      "            67          -0.75828        0.578\n",
      "            68          -0.75808        0.578\n",
      "            69          -0.75788        0.578\n",
      "            70          -0.75769        0.578\n",
      "            71          -0.75750        0.578\n",
      "            72          -0.75732        0.578\n",
      "            73          -0.75714        0.578\n",
      "            74          -0.75696        0.578\n",
      "            75          -0.75679        0.578\n",
      "            76          -0.75662        0.585\n",
      "            77          -0.75646        0.585\n",
      "            78          -0.75630        0.585\n",
      "            79          -0.75614        0.585\n",
      "            80          -0.75598        0.585\n",
      "            81          -0.75583        0.585\n",
      "            82          -0.75568        0.585\n",
      "            83          -0.75553        0.585\n",
      "            84          -0.75539        0.585\n",
      "            85          -0.75525        0.585\n",
      "            86          -0.75511        0.585\n",
      "            87          -0.75498        0.585\n",
      "            88          -0.75484        0.585\n",
      "            89          -0.75471        0.585\n",
      "            90          -0.75459        0.583\n",
      "            91          -0.75446        0.583\n",
      "            92          -0.75434        0.583\n",
      "            93          -0.75422        0.583\n",
      "            94          -0.75410        0.583\n",
      "            95          -0.75398        0.583\n",
      "            96          -0.75386        0.583\n",
      "            97          -0.75375        0.583\n",
      "            98          -0.75364        0.583\n",
      "            99          -0.75353        0.581\n",
      "         Final          -0.75343        0.581\n",
      "Accuracy in train data 0.5811051693404634\n",
      "Accuracy in test data 0.48936170212765956\n"
     ]
    }
   ],
   "source": [
    "print('Nltk-Maxent Classifier')\n",
    "print('\\n')\n",
    "\n",
    "# Train Nltk-Maxent Classifier\n",
    "numIterations = 100\n",
    "algorithm = nltk.classify.MaxentClassifier.ALGORITHMS[0]\n",
    "labeled_train_data = songs_to_documents(X_train['Lyrics_1'],y_train)\n",
    "model_sentiment_maxent_nltk_1 = nltk.MaxentClassifier.train(labeled_train_data,algorithm,max_iter = numIterations)\n",
    "print('Accuracy in train data',nltk.classify.accuracy(model_sentiment_maxent_nltk_1,labeled_train_data))\n",
    "# Test Nltk-Maxent Classifier\n",
    "labeled_test_data = songs_to_documents(X_test['Lyrics_1'],y_test)\n",
    "print('Accuracy in test data', nltk.classify.accuracy(model_sentiment_maxent_nltk_1,labeled_test_data))\n"
   ]
  },
  {
   "cell_type": "code",
   "execution_count": 18,
   "metadata": {},
   "outputs": [
    {
     "name": "stdout",
     "output_type": "stream",
     "text": [
      "  ==> Training (100 iterations)\n",
      "\n",
      "      Iteration    Log Likelihood    Accuracy\n",
      "      ---------------------------------------\n",
      "             1          -1.09861        0.378\n",
      "             2          -1.00063        0.549\n",
      "             3          -0.93922        0.549\n",
      "             4          -0.89910        0.549\n",
      "             5          -0.87175        0.549\n",
      "             6          -0.85238        0.549\n",
      "             7          -0.83819        0.549\n",
      "             8          -0.82750        0.549\n",
      "             9          -0.81923        0.549\n",
      "            10          -0.81267        0.549\n",
      "            11          -0.80735        0.549\n",
      "            12          -0.80293        0.551\n",
      "            13          -0.79918        0.551\n",
      "            14          -0.79594        0.551\n",
      "            15          -0.79306        0.551\n",
      "            16          -0.79048        0.551\n",
      "            17          -0.78811        0.551\n",
      "            18          -0.78590        0.551\n",
      "            19          -0.78382        0.551\n",
      "            20          -0.78185        0.551\n",
      "            21          -0.77995        0.551\n",
      "            22          -0.77812        0.551\n",
      "            23          -0.77634        0.554\n",
      "            24          -0.77460        0.554\n",
      "            25          -0.77290        0.554\n",
      "            26          -0.77123        0.554\n",
      "            27          -0.76959        0.556\n",
      "            28          -0.76797        0.556\n",
      "            29          -0.76637        0.556\n",
      "            30          -0.76480        0.558\n",
      "            31          -0.76325        0.560\n",
      "            32          -0.76171        0.560\n",
      "            33          -0.76020        0.560\n",
      "            34          -0.75869        0.560\n",
      "            35          -0.75721        0.561\n",
      "            36          -0.75574        0.565\n",
      "            37          -0.75428        0.569\n",
      "            38          -0.75284        0.569\n",
      "            39          -0.75141        0.569\n",
      "            40          -0.75000        0.569\n",
      "            41          -0.74859        0.569\n",
      "            42          -0.74720        0.569\n",
      "            43          -0.74582        0.569\n",
      "            44          -0.74445        0.570\n",
      "            45          -0.74310        0.572\n",
      "            46          -0.74175        0.572\n",
      "            47          -0.74042        0.572\n",
      "            48          -0.73909        0.574\n",
      "            49          -0.73777        0.576\n",
      "            50          -0.73647        0.578\n",
      "            51          -0.73517        0.578\n",
      "            52          -0.73389        0.581\n",
      "            53          -0.73261        0.588\n",
      "            54          -0.73134        0.590\n",
      "            55          -0.73008        0.592\n",
      "            56          -0.72883        0.592\n",
      "            57          -0.72759        0.592\n",
      "            58          -0.72635        0.592\n",
      "            59          -0.72513        0.594\n",
      "            60          -0.72391        0.595\n",
      "            61          -0.72270        0.601\n",
      "            62          -0.72150        0.602\n",
      "            63          -0.72030        0.606\n",
      "            64          -0.71912        0.608\n",
      "            65          -0.71794        0.610\n",
      "            66          -0.71677        0.613\n",
      "            67          -0.71560        0.613\n",
      "            68          -0.71444        0.619\n",
      "            69          -0.71329        0.624\n",
      "            70          -0.71215        0.624\n",
      "            71          -0.71101        0.626\n",
      "            72          -0.70988        0.627\n",
      "            73          -0.70876        0.627\n",
      "            74          -0.70764        0.627\n",
      "            75          -0.70653        0.631\n",
      "            76          -0.70543        0.631\n",
      "            77          -0.70433        0.633\n",
      "            78          -0.70324        0.636\n",
      "            79          -0.70216        0.638\n",
      "            80          -0.70108        0.640\n",
      "            81          -0.70001        0.642\n",
      "            82          -0.69894        0.642\n",
      "            83          -0.69788        0.642\n",
      "            84          -0.69683        0.643\n",
      "            85          -0.69578        0.647\n",
      "            86          -0.69473        0.651\n",
      "            87          -0.69370        0.654\n",
      "            88          -0.69267        0.654\n",
      "            89          -0.69164        0.658\n",
      "            90          -0.69062        0.660\n",
      "            91          -0.68961        0.660\n",
      "            92          -0.68860        0.660\n",
      "            93          -0.68759        0.660\n",
      "            94          -0.68660        0.661\n",
      "            95          -0.68560        0.665\n",
      "            96          -0.68461        0.668\n",
      "            97          -0.68363        0.670\n",
      "            98          -0.68265        0.670\n",
      "            99          -0.68168        0.670\n",
      "         Final          -0.68071        0.670\n",
      "Accuracy in train data 0.6702317290552585\n",
      "Accuracy in test data 0.49645390070921985\n"
     ]
    }
   ],
   "source": [
    "# Train Max ent bi gram\n",
    "numIterations = 100\n",
    "algorithm = nltk.classify.MaxentClassifier.ALGORITHMS[0]\n",
    "labeled_train_data = songs_to_documents(X_train['Lyrics_2'],y_train)\n",
    "model_sentiment_maxent_nltk_2 = nltk.MaxentClassifier.train(labeled_train_data,algorithm,max_iter = numIterations)\n",
    "print('Accuracy in train data',nltk.classify.accuracy(model_sentiment_maxent_nltk_2,labeled_train_data))\n",
    "# Test Max ent bi gram\n",
    "labeled_test_data = songs_to_documents(X_test['Lyrics_2'],y_test)\n",
    "print('Accuracy in test data', nltk.classify.accuracy(model_sentiment_maxent_nltk_2,labeled_test_data))\n"
   ]
  },
  {
   "cell_type": "code",
   "execution_count": 19,
   "metadata": {},
   "outputs": [
    {
     "name": "stdout",
     "output_type": "stream",
     "text": [
      "Sklearn model\n",
      "MultinomialNB Train Accuracy: 0.9982174688057041\n",
      "MultinomialNB Test Accuracy: 0.6312056737588653\n"
     ]
    }
   ],
   "source": [
    "### Sckit learn model\n",
    "\n",
    "#tokenizer to remove unwanted elements from out data like symbols and numbers\n",
    "token = RegexpTokenizer(r'[a-zA-Z0-9]+')\n",
    "cv = CountVectorizer(lowercase=True,stop_words='english',tokenizer = token.tokenize,ngram_range = (1,2))\n",
    "\n",
    "# tf=TfidfVectorizer(lowercase=True,stop_words='english',ngram_range = (1,2),tokenizer = token.tokenize)\n",
    "\n",
    "\n",
    "text_counts_train= cv.fit_transform(X_train['Clean_lyrics'])\n",
    "text_counts_test= cv.transform(X_test['Clean_lyrics'])\n",
    "\n",
    "\n",
    "from sklearn.naive_bayes import MultinomialNB\n",
    "#Import scikit-learn metrics module for accuracy calculation\n",
    "from sklearn import metrics\n",
    "# Model Generation Using Multinomial Naive Bayes\n",
    "model_sentiment_naive_sklearn = MultinomialNB().fit(text_counts_train,y_train)\n",
    "\n",
    "predicted_train= model_sentiment_naive_sklearn.predict(text_counts_train)\n",
    "predicted_test= model_sentiment_naive_sklearn.predict(text_counts_test)\n",
    "\n",
    "print('Sklearn model')\n",
    "print(\"MultinomialNB Train Accuracy:\",metrics.accuracy_score(y_train, predicted_train))\n",
    "print(\"MultinomialNB Test Accuracy:\",metrics.accuracy_score(y_test, predicted_test))\n"
   ]
  },
  {
   "cell_type": "code",
   "execution_count": 21,
   "metadata": {},
   "outputs": [
    {
     "data": {
      "image/png": "[encoded data removed]",
      "text/plain": [
       "<Figure size 432x288 with 1 Axes>"
      ]
     },
     "metadata": {},
     "output_type": "display_data"
    }
   ],
   "source": [
    "conf_matrix = metrics.confusion_matrix(y_test, predicted_test,labels = ['negative','neutral','positive'])\n",
    "FP = conf_matrix.sum(axis=0) - np.diag(conf_matrix)  \n",
    "FN = conf_matrix.sum(axis=1) - np.diag(conf_matrix)\n",
    "TP = np.diag(conf_matrix)\n",
    "TN = conf_matrix.sum() - (FP + FN + TP)\n",
    "cnf_list = [sum(TN),sum(FP),sum(TP),sum(FN)]\n",
    "import matplotlib.pyplot as plt\n",
    "labels = 'True Negative', 'False Positive ', 'True Positive', 'False Negative'\n",
    "\n",
    "\n",
    "# Plot\n",
    "plt.pie(cnf_list, labels=labels,\n",
    "autopct='%1.1f%%', shadow=True, startangle=140)\n",
    "\n",
    "plt.axis('equal')\n",
    "plt.show()\n"
   ]
  },
  {
   "cell_type": "code",
   "execution_count": 22,
   "metadata": {},
   "outputs": [
    {
     "name": "stdout",
     "output_type": "stream",
     "text": [
      "Indicoio Accuracy: 0.43447293447293445\n"
     ]
    }
   ],
   "source": [
    "# indicoio Api sentiment analysis, bin into three categories if score less than 0.33 then sentiment tagged as negative \n",
    "# bin > 0.33 and bin < 0.7 tagged as neutral\n",
    "# bin > 0.7 and bin < 1 tagged as positive\n",
    "\n",
    "songs_df.loc[songs_df['sentiment_score_indicoio']<=0.33,'aut_polarity']='negative'\n",
    "songs_df.loc[(songs_df['sentiment_score_indicoio']>0.33)&(songs_df['sentiment_score_indicoio']<=0.7),'aut_polarity']='neutral'\n",
    "songs_df.loc[(songs_df['sentiment_score_indicoio']>0.7),'aut_polarity']='positive'\n",
    "\n",
    "print('Indicoio Accuracy:',len(songs_df[songs_df.aut_polarity == songs_df.Polarity])/len(songs_df))"
   ]
  },
  {
   "cell_type": "code",
   "execution_count": 23,
   "metadata": {},
   "outputs": [],
   "source": [
    "X_train.to_csv('Sentiment_train.csv',index = False)"
   ]
  },
  {
   "cell_type": "code",
   "execution_count": 24,
   "metadata": {},
   "outputs": [],
   "source": [
    "# Emotion analysis\n",
    "\n",
    "#  train and test data split using sklearn (80 percent train and 20 percent test)\n",
    "\n",
    "X = songs_df[['Lyrics_1','Lyrics_2','Lyrics_3','Clean_lyrics']]\n",
    "y = songs_df['Emotion']\n",
    "\n",
    "\n",
    "from sklearn.model_selection import train_test_split\n",
    "X_train, X_test, y_train, y_test = train_test_split(X, y,\n",
    "                                                    stratify=y, \n",
    "                                                    test_size=0.2,random_state = 42)\n",
    "\n",
    "\n"
   ]
  },
  {
   "cell_type": "code",
   "execution_count": 25,
   "metadata": {},
   "outputs": [
    {
     "name": "stdout",
     "output_type": "stream",
     "text": [
      "Accuracy for train data 0.44206773618538325\n",
      "Accuracy for test data 0.41843971631205673\n"
     ]
    }
   ],
   "source": [
    "# Train and test : Unigram model of emotion \n",
    "\n",
    "model_emotion_naive_nltk_1 = train_naiveBayes(X_train['Lyrics_1'],y_train)\n",
    "test_naiveBayes(model_emotion_naive_nltk_1,X_test['Lyrics_1'],y_test)"
   ]
  },
  {
   "cell_type": "code",
   "execution_count": 26,
   "metadata": {},
   "outputs": [
    {
     "name": "stdout",
     "output_type": "stream",
     "text": [
      "Accuracy for train data 0.13368983957219252\n",
      "Accuracy for test data 0.09929078014184398\n"
     ]
    }
   ],
   "source": [
    "# Train and test : Bigram model of emotion \n",
    "\n",
    "model_emotion_naive_nltk_2 = train_naiveBayes(X_train['Lyrics_2'],y_train)\n",
    "test_naiveBayes(model_emotion_naive_nltk_2,X_test['Lyrics_2'],y_test)"
   ]
  },
  {
   "cell_type": "code",
   "execution_count": 27,
   "metadata": {},
   "outputs": [
    {
     "name": "stdout",
     "output_type": "stream",
     "text": [
      "MultinomialNB Train Emotion Accuracy: 0.9982174688057041\n",
      "MultinomialNB Test Emotion Accuracy: 0.5602836879432624\n"
     ]
    }
   ],
   "source": [
    "### Sckit learn model\n",
    "\n",
    "#tokenizer to remove unwanted elements from out data like symbols and numbers\n",
    "token = RegexpTokenizer(r'[a-zA-Z0-9]+')\n",
    "cv = CountVectorizer(lowercase=True,stop_words='english',tokenizer = token.tokenize,ngram_range = (1,3))\n",
    "\n",
    "text_counts_train= cv.fit_transform(X_train['Clean_lyrics'])\n",
    "text_counts_test= cv.transform(X_test['Clean_lyrics'])\n",
    "\n",
    "from sklearn.naive_bayes import MultinomialNB\n",
    "#Import scikit-learn metrics module for accuracy calculation\n",
    "from sklearn import metrics\n",
    "# Model Generation Using Multinomial Naive Bayes\n",
    "model_emotion_naive_sklearn = MultinomialNB().fit(text_counts_train,y_train)\n",
    "\n",
    "predicted_train= model_emotion_naive_sklearn.predict(text_counts_train)\n",
    "predicted_test= model_emotion_naive_sklearn.predict(text_counts_test)\n",
    "\n",
    "print(\"MultinomialNB Train Emotion Accuracy:\",metrics.accuracy_score(y_train, predicted_train))\n",
    "print(\"MultinomialNB Test Emotion Accuracy:\",metrics.accuracy_score(y_test, predicted_test))\n"
   ]
  },
  {
   "cell_type": "code",
   "execution_count": 28,
   "metadata": {},
   "outputs": [
    {
     "data": {
      "image/png": "[encoded data removed]",
      "text/plain": [
       "<Figure size 432x288 with 1 Axes>"
      ]
     },
     "metadata": {},
     "output_type": "display_data"
    }
   ],
   "source": [
    "# Visulaization of True negative, True Positive, False Positive and False Negative\n",
    "conf_matrix = metrics.confusion_matrix(y_test, predicted_test,labels = ['sadness','happy','angry','fear','disgust','surprise'])\n",
    "FP = conf_matrix.sum(axis=0) - np.diag(conf_matrix)  \n",
    "FN = conf_matrix.sum(axis=1) - np.diag(conf_matrix)\n",
    "TP = np.diag(conf_matrix)\n",
    "TN = conf_matrix.sum() - (FP + FN + TP)\n",
    "cnf_list = [sum(TN),sum(FP),sum(TP),sum(FN)]\n",
    "import matplotlib.pyplot as plt\n",
    "labels = 'True Negative', 'False Positive ', 'True Positive', 'False Negative'\n",
    "\n",
    "\n",
    "# Plot\n",
    "plt.pie(cnf_list, labels=labels,\n",
    "autopct='%1.1f%%', shadow=True, startangle=140)\n",
    "\n",
    "plt.axis('equal')\n",
    "plt.show()\n"
   ]
  },
  {
   "cell_type": "code",
   "execution_count": 29,
   "metadata": {},
   "outputs": [
    {
     "name": "stdout",
     "output_type": "stream",
     "text": [
      "Nltk-Maxent Classifier Emotion\n",
      "\n",
      "\n",
      "  ==> Training (100 iterations)\n",
      "\n",
      "      Iteration    Log Likelihood    Accuracy\n",
      "      ---------------------------------------\n",
      "             1          -1.79176        0.012\n",
      "             2          -1.29634        0.433\n",
      "             3          -1.16677        0.433\n",
      "             4          -1.12037        0.435\n",
      "             5          -1.09990        0.435\n",
      "             6          -1.08942        0.431\n",
      "             7          -1.08328        0.435\n",
      "             8          -1.07916        0.437\n",
      "             9          -1.07604        0.437\n",
      "            10          -1.07344        0.439\n",
      "            11          -1.07116        0.440\n",
      "            12          -1.06907        0.444\n",
      "            13          -1.06713        0.458\n",
      "            14          -1.06531        0.458\n",
      "            15          -1.06360        0.458\n",
      "            16          -1.06197        0.460\n",
      "            17          -1.06042        0.462\n",
      "            18          -1.05894        0.465\n",
      "            19          -1.05754        0.465\n",
      "            20          -1.05619        0.467\n",
      "            21          -1.05491        0.467\n",
      "            22          -1.05368        0.465\n",
      "            23          -1.05250        0.463\n",
      "            24          -1.05136        0.463\n",
      "            25          -1.05027        0.463\n",
      "            26          -1.04922        0.463\n",
      "            27          -1.04821        0.463\n",
      "            28          -1.04724        0.463\n",
      "            29          -1.04629        0.463\n",
      "            30          -1.04538        0.463\n",
      "            31          -1.04450        0.463\n",
      "            32          -1.04365        0.463\n",
      "            33          -1.04283        0.463\n",
      "            34          -1.04203        0.463\n",
      "            35          -1.04125        0.463\n",
      "            36          -1.04050        0.463\n",
      "            37          -1.03976        0.463\n",
      "            38          -1.03905        0.463\n",
      "            39          -1.03836        0.463\n",
      "            40          -1.03769        0.463\n",
      "            41          -1.03703        0.463\n",
      "            42          -1.03639        0.463\n",
      "            43          -1.03577        0.465\n",
      "            44          -1.03516        0.465\n",
      "            45          -1.03457        0.465\n",
      "            46          -1.03400        0.465\n",
      "            47          -1.03343        0.465\n",
      "            48          -1.03288        0.463\n",
      "            49          -1.03234        0.463\n",
      "            50          -1.03182        0.463\n",
      "            51          -1.03131        0.462\n",
      "            52          -1.03081        0.462\n",
      "            53          -1.03032        0.462\n",
      "            54          -1.02984        0.462\n",
      "            55          -1.02937        0.462\n",
      "            56          -1.02891        0.462\n",
      "            57          -1.02846        0.462\n",
      "            58          -1.02802        0.462\n",
      "            59          -1.02758        0.462\n",
      "            60          -1.02716        0.462\n",
      "            61          -1.02675        0.462\n",
      "            62          -1.02634        0.462\n",
      "            63          -1.02594        0.462\n",
      "            64          -1.02555        0.462\n",
      "            65          -1.02517        0.460\n",
      "            66          -1.02479        0.460\n",
      "            67          -1.02442        0.460\n",
      "            68          -1.02406        0.460\n",
      "            69          -1.02370        0.460\n",
      "            70          -1.02336        0.462\n",
      "            71          -1.02301        0.462\n",
      "            72          -1.02268        0.462\n",
      "            73          -1.02234        0.462\n",
      "            74          -1.02202        0.463\n",
      "            75          -1.02170        0.463\n",
      "            76          -1.02139        0.463\n",
      "            77          -1.02108        0.463\n",
      "            78          -1.02077        0.463\n",
      "            79          -1.02047        0.465\n",
      "            80          -1.02018        0.465\n",
      "            81          -1.01989        0.467\n",
      "            82          -1.01961        0.467\n",
      "            83          -1.01933        0.467\n",
      "            84          -1.01905        0.467\n",
      "            85          -1.01878        0.467\n",
      "            86          -1.01851        0.467\n",
      "            87          -1.01825        0.467\n",
      "            88          -1.01799        0.467\n",
      "            89          -1.01774        0.467\n",
      "            90          -1.01749        0.467\n",
      "            91          -1.01724        0.467\n",
      "            92          -1.01699        0.467\n",
      "            93          -1.01675        0.467\n",
      "            94          -1.01652        0.467\n",
      "            95          -1.01628        0.467\n",
      "            96          -1.01605        0.467\n",
      "            97          -1.01583        0.467\n",
      "            98          -1.01560        0.467\n",
      "            99          -1.01538        0.467\n",
      "         Final          -1.01516        0.467\n",
      "Accuracy in train data 0.46702317290552586\n",
      "Accuracy in test data 0.425531914893617\n"
     ]
    }
   ],
   "source": [
    "print('Nltk-Maxent Classifier Emotion')\n",
    "print('\\n')\n",
    "\n",
    "# Train Nltk Max ent model with 100 iterations unigram\n",
    "numIterations = 100\n",
    "algorithm = nltk.classify.MaxentClassifier.ALGORITHMS[0]\n",
    "labeled_train_data = songs_to_documents(X_train['Lyrics_1'],y_train)\n",
    "model_emotion_maxent_nltk_1 = nltk.MaxentClassifier.train(labeled_train_data,algorithm,max_iter = numIterations)\n",
    "print('Accuracy in train data',nltk.classify.accuracy(model_emotion_maxent_nltk_1,labeled_train_data))\n",
    "# Test unigram emotion\n",
    "labeled_test_data = songs_to_documents(X_test['Lyrics_1'],y_test)\n",
    "print('Accuracy in test data', nltk.classify.accuracy(model_emotion_maxent_nltk_1,labeled_test_data))\n"
   ]
  },
  {
   "cell_type": "code",
   "execution_count": 29,
   "metadata": {},
   "outputs": [
    {
     "name": "stdout",
     "output_type": "stream",
     "text": [
      "Nltk-Maxent Classifier Emotion Bigram\n",
      "\n",
      "\n",
      "  ==> Training (100 iterations)\n",
      "\n",
      "      Iteration    Log Likelihood    Accuracy\n",
      "      ---------------------------------------\n",
      "             1          -1.79176        0.012\n",
      "             2          -1.54751        0.474\n",
      "             3          -1.40166        0.483\n",
      "             4          -1.31125        0.492\n",
      "             5          -1.25224        0.508\n",
      "             6          -1.21183        0.519\n",
      "             7          -1.18297        0.522\n",
      "             8          -1.16162        0.528\n",
      "             9          -1.14532        0.529\n",
      "            10          -1.13254        0.535\n",
      "            11          -1.12227        0.537\n",
      "            12          -1.11381        0.540\n",
      "            13          -1.10669        0.542\n",
      "            14          -1.10058        0.549\n",
      "            15          -1.09522        0.551\n",
      "            16          -1.09045        0.554\n",
      "            17          -1.08612        0.560\n",
      "            18          -1.08213        0.572\n",
      "            19          -1.07841        0.578\n",
      "            20          -1.07491        0.581\n",
      "            21          -1.07156        0.583\n",
      "            22          -1.06835        0.585\n",
      "            23          -1.06525        0.585\n",
      "            24          -1.06223        0.586\n",
      "            25          -1.05928        0.586\n",
      "            26          -1.05638        0.586\n",
      "            27          -1.05353        0.586\n",
      "            28          -1.05072        0.588\n",
      "            29          -1.04795        0.594\n",
      "            30          -1.04520        0.594\n",
      "            31          -1.04248        0.594\n",
      "            32          -1.03978        0.594\n",
      "            33          -1.03711        0.594\n",
      "            34          -1.03445        0.590\n",
      "            35          -1.03181        0.592\n",
      "            36          -1.02919        0.592\n",
      "            37          -1.02658        0.592\n",
      "            38          -1.02399        0.592\n",
      "            39          -1.02142        0.592\n",
      "            40          -1.01886        0.594\n",
      "            41          -1.01632        0.597\n",
      "            42          -1.01379        0.601\n",
      "            43          -1.01128        0.602\n",
      "            44          -1.00878        0.601\n",
      "            45          -1.00630        0.604\n",
      "            46          -1.00384        0.608\n",
      "            47          -1.00139        0.615\n",
      "            48          -0.99895        0.617\n",
      "            49          -0.99653        0.617\n",
      "            50          -0.99413        0.619\n",
      "            51          -0.99174        0.620\n",
      "            52          -0.98936        0.622\n",
      "            53          -0.98701        0.624\n",
      "            54          -0.98466        0.624\n",
      "            55          -0.98234        0.626\n",
      "            56          -0.98002        0.627\n",
      "            57          -0.97773        0.626\n",
      "            58          -0.97545        0.629\n",
      "            59          -0.97318        0.629\n",
      "            60          -0.97093        0.631\n",
      "            61          -0.96870        0.631\n",
      "            62          -0.96648        0.635\n",
      "            63          -0.96427        0.635\n",
      "            64          -0.96208        0.636\n",
      "            65          -0.95991        0.636\n",
      "            66          -0.95774        0.638\n",
      "            67          -0.95560        0.640\n",
      "            68          -0.95347        0.642\n",
      "            69          -0.95135        0.642\n",
      "            70          -0.94925        0.642\n",
      "            71          -0.94716        0.643\n",
      "            72          -0.94508        0.645\n",
      "            73          -0.94302        0.645\n",
      "            74          -0.94097        0.649\n",
      "            75          -0.93893        0.651\n",
      "            76          -0.93691        0.652\n",
      "            77          -0.93491        0.652\n",
      "            78          -0.93291        0.652\n",
      "            79          -0.93093        0.656\n",
      "            80          -0.92896        0.656\n",
      "            81          -0.92700        0.658\n",
      "            82          -0.92506        0.660\n",
      "            83          -0.92313        0.658\n",
      "            84          -0.92121        0.658\n",
      "            85          -0.91930        0.656\n",
      "            86          -0.91741        0.654\n",
      "            87          -0.91552        0.658\n",
      "            88          -0.91365        0.658\n",
      "            89          -0.91179        0.658\n",
      "            90          -0.90995        0.660\n",
      "            91          -0.90811        0.661\n",
      "            92          -0.90629        0.661\n",
      "            93          -0.90447        0.663\n",
      "            94          -0.90267        0.663\n",
      "            95          -0.90088        0.663\n",
      "            96          -0.89910        0.665\n",
      "            97          -0.89733        0.665\n",
      "            98          -0.89557        0.665\n",
      "            99          -0.89382        0.665\n",
      "         Final          -0.89208        0.665\n",
      "Accuracy in train data 0.6648841354723708\n",
      "Accuracy in test data 0.375886524822695\n"
     ]
    }
   ],
   "source": [
    "print('Nltk-Maxent Classifier Emotion Bigram')\n",
    "print('\\n')\n",
    "\n",
    "# Train Max entropy bigram with 100 iterations\n",
    "numIterations = 100\n",
    "algorithm = nltk.classify.MaxentClassifier.ALGORITHMS[0]\n",
    "labeled_train_data = songs_to_documents(X_train['Lyrics_2'],y_train)\n",
    "model_emotion_maxent_nltk_2 = nltk.MaxentClassifier.train(labeled_train_data,algorithm,max_iter = numIterations)\n",
    "print('Accuracy in train data',nltk.classify.accuracy(model_emotion_maxent_nltk_2,labeled_train_data))\n",
    "# Test max entropy bigram\n",
    "labeled_test_data = songs_to_documents(X_test['Lyrics_2'],y_test)\n",
    "print('Accuracy in test data', nltk.classify.accuracy(model_emotion_maxent_nltk_2,labeled_test_data))\n"
   ]
  },
  {
   "cell_type": "code",
   "execution_count": 31,
   "metadata": {},
   "outputs": [],
   "source": [
    "# Based on emotional value group bands\n",
    "\n",
    "df_classify = pd.read_csv('Emotional_scores_500.csv')\n"
   ]
  },
  {
   "cell_type": "code",
   "execution_count": 32,
   "metadata": {},
   "outputs": [],
   "source": [
    "# Group band and average of each band\n",
    "\n",
    "group_by_band = df_classify[['sadness','joy','anger','fear','surprise','Band']].groupby('Band').agg('mean')\n",
    "group_by_band['Band'] = group_by_band.index\n",
    "group_by_band = group_by_band.reset_index(drop = True)"
   ]
  },
  {
   "cell_type": "code",
   "execution_count": 33,
   "metadata": {},
   "outputs": [],
   "source": [
    "X = group_by_band[['sadness','joy','anger','fear','surprise']]"
   ]
  },
  {
   "cell_type": "code",
   "execution_count": 34,
   "metadata": {},
   "outputs": [],
   "source": [
    "from sklearn.cluster import KMeans"
   ]
  },
  {
   "cell_type": "code",
   "execution_count": 35,
   "metadata": {},
   "outputs": [],
   "source": [
    "# To determine K value\n",
    "Sum_of_squared_distances = []\n",
    "K = range(2,15)\n",
    "for k in K:\n",
    "    km = KMeans(n_clusters=k)\n",
    "    km = km.fit(X)\n",
    "    Sum_of_squared_distances.append(km.inertia_)"
   ]
  },
  {
   "cell_type": "code",
   "execution_count": 36,
   "metadata": {},
   "outputs": [],
   "source": [
    "import matplotlib.pyplot as plt"
   ]
  },
  {
   "cell_type": "code",
   "execution_count": 37,
   "metadata": {},
   "outputs": [
    {
     "data": {
      "image/png": "[encoded data removed]",
      "text/plain": [
       "<Figure size 432x288 with 1 Axes>"
      ]
     },
     "metadata": {
      "needs_background": "light"
     },
     "output_type": "display_data"
    }
   ],
   "source": [
    "# Plot k value and Sum of squared distances\n",
    "plt.plot(K, Sum_of_squared_distances, 'bx-')\n",
    "plt.xlabel('k')\n",
    "plt.ylabel('Sum_of_squared_distances')\n",
    "plt.title('Elbow Method For Optimal k')\n",
    "plt.show()"
   ]
  },
  {
   "cell_type": "code",
   "execution_count": 38,
   "metadata": {},
   "outputs": [],
   "source": [
    "# From above K = 7, predict clusters\n",
    "kmeans = KMeans(n_clusters=7, random_state=0).fit(X)\n",
    "group_by_band['Cluster_number'] = kmeans.predict(X) "
   ]
  }
 ],
 "metadata": {
  "kernelspec": {
   "display_name": "Python 3",
   "language": "python",
   "name": "python3"
  },
  "language_info": {
   "codemirror_mode": {
    "name": "ipython",
    "version": 3
   },
   "file_extension": ".py",
   "mimetype": "text/x-python",
   "name": "python",
   "nbconvert_exporter": "python",
   "pygments_lexer": "ipython3",
   "version": "3.7.1"
  }
 },
 "nbformat": 4,
 "nbformat_minor": 2
}
